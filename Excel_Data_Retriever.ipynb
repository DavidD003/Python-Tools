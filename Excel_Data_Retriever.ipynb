{
 "cells": [
  {
   "cell_type": "code",
   "execution_count": 1,
   "id": "2896ccc1",
   "metadata": {},
   "outputs": [],
   "source": [
    "#Dependencies\n",
    "from openpyxl import load_workbook\n",
    "import openpyxl as pyxl\n",
    "from pathlib import Path\n",
    "import os\n",
    "from datetime import datetime"
   ]
  },
  {
   "cell_type": "code",
   "execution_count": 2,
   "id": "75712ba1",
   "metadata": {
    "scrolled": false
   },
   "outputs": [
    {
     "data": {
      "text/plain": [
       "True"
      ]
     },
     "execution_count": 2,
     "metadata": {},
     "output_type": "execute_result"
    }
   ],
   "source": [
    "#This cell can be used for debugging to confirm whether or not the path you've entered is valid. \n",
    "Path(r\"C:\\Invoices\").exists()"
   ]
  },
  {
   "cell_type": "code",
   "execution_count": 3,
   "id": "c6305d33",
   "metadata": {},
   "outputs": [],
   "source": [
    "subitems=[] #Will contain the data we're aggregating for all items on invoices\n",
    "invoiceTotal=[] #Will contain the final data for each invoice\n",
    "fls=[] #Store file paths for excel files to be searched"
   ]
  },
  {
   "cell_type": "code",
   "execution_count": 15,
   "id": "e1e1bfed",
   "metadata": {},
   "outputs": [],
   "source": [
    "#Option 1: Going to only specified files"
   ]
  },
  {
   "cell_type": "code",
   "execution_count": 16,
   "id": "feaf8927",
   "metadata": {},
   "outputs": [],
   "source": [
    "#Helper function to build path strings when iterating through multiple files\n",
    "def pthBld(flNm,flExtn=\"\",path_building_variable=('Paid',0)):\n",
    "    \"\"\"Take a file name and expected file type, and based on some other input, add the rest of the file path for reference by workbook opening function\"\"\"\n",
    "    if flExtn!=\"\": flExtn=\".\"+flExtn\n",
    "    tp=path_building_variable[0]\n",
    "    yr=path_building_variable[1]\n",
    "    if yr==22:\n",
    "        return (r\"C:\\Invoices\\Invoices 2022\"+chr(92)+tp+chr(92)+flNm+flExtn)\n",
    "    else:\n",
    "        return (r\"C:\\Invoices\\Invoices '\"+str(yr)+chr(92)+tp+chr(92)+flNm+flExtn)"
   ]
  },
  {
   "cell_type": "code",
   "execution_count": 17,
   "id": "8fdfab25",
   "metadata": {
    "scrolled": false
   },
   "outputs": [
    {
     "data": {
      "text/plain": [
       "('C:\\\\Invoices\\\\Invoices 2022\\\\unPaid\\\\Invoice 3.xlsx', 'Exists?: True')"
      ]
     },
     "execution_count": 17,
     "metadata": {},
     "output_type": "execute_result"
    }
   ],
   "source": [
    "#Test function. Output will have double slashes due to vagaries of paths/strings in this language etc but if exists() yields True, the path is good\n",
    "p=pthBld('Invoice 3',\"xlsx\",('unPaid',22))\n",
    "p, \"Exists?: \"+str(Path(p).exists())"
   ]
  },
  {
   "cell_type": "code",
   "execution_count": 99,
   "id": "4633749b",
   "metadata": {},
   "outputs": [],
   "source": [
    "fls.append(pthBld('Invoice 1',\"xlsx\",('Paid',22)))\n",
    "fls.append(pthBld('Invoice 2',\"xlsx\",('Paid',22)))\n",
    "fls.append(pthBld('Invoice 3',\"xlsx\",('unPaid',22)))\n",
    "fls.append(pthBld('Invoice 1',\"xlsx\",('Paid',21)))\n",
    "fls.append(pthBld('Invoice 2',\"xlsx\",('Paid',21)))\n",
    "fls.append(pthBld('Invoice 3',\"xlsx\",('unPaid',21)))"
   ]
  },
  {
   "cell_type": "code",
   "execution_count": 8,
   "id": "26b8d80a",
   "metadata": {},
   "outputs": [],
   "source": [
    "#Option 2: Searching for every file in a given directory based on name structure"
   ]
  },
  {
   "cell_type": "code",
   "execution_count": 4,
   "id": "f0a77d19",
   "metadata": {},
   "outputs": [],
   "source": [
    "def list_dir(directory):\n",
    "    \"\"\"This function will print out the path for every file in the specified directory (and any further nested directories)\"\"\"\n",
    "    output=[] #initialize\n",
    "    for filename in os.listdir(directory):\n",
    "        f = os.path.join(directory, filename)\n",
    "        # checking if it is a file\n",
    "        if os.path.isfile(f):\n",
    "            output.append(f)\n",
    "        elif os.path.isdir(f):\n",
    "            output.extend(list_dir(f))\n",
    "    return output"
   ]
  },
  {
   "cell_type": "code",
   "execution_count": 5,
   "id": "30146d37",
   "metadata": {},
   "outputs": [
    {
     "data": {
      "text/plain": [
       "[\"C:\\\\Invoices\\\\Invoices '21\\\\junk_Data.xlsx\",\n",
       " \"C:\\\\Invoices\\\\Invoices '21\\\\Paid\\\\invoice 1.xlsx\",\n",
       " \"C:\\\\Invoices\\\\Invoices '21\\\\Paid\\\\invoice 2.xlsx\",\n",
       " \"C:\\\\Invoices\\\\Invoices '21\\\\Unpaid\\\\invoice 3.xlsx\",\n",
       " \"C:\\\\Invoices\\\\Invoices '23\\\\invoice 1.xlsx\",\n",
       " \"C:\\\\Invoices\\\\Invoices '23\\\\invoice 2.xlsx\",\n",
       " \"C:\\\\Invoices\\\\Invoices '23\\\\invoice 3.xlsx\",\n",
       " \"C:\\\\Invoices\\\\Invoices '23\\\\junk_Data.xlsx\",\n",
       " 'C:\\\\Invoices\\\\Invoices 2022\\\\junk_Data.xlsx',\n",
       " 'C:\\\\Invoices\\\\Invoices 2022\\\\Paid\\\\invoice 1.xlsx',\n",
       " 'C:\\\\Invoices\\\\Invoices 2022\\\\Paid\\\\invoice 2.xlsx',\n",
       " 'C:\\\\Invoices\\\\Invoices 2022\\\\Paid\\\\junk_Data.xlsx',\n",
       " 'C:\\\\Invoices\\\\Invoices 2022\\\\Unpaid\\\\invoice 3.xlsx']"
      ]
     },
     "execution_count": 5,
     "metadata": {},
     "output_type": "execute_result"
    }
   ],
   "source": [
    "list_dir(r\"C:\\Invoices\") #Test it works"
   ]
  },
  {
   "cell_type": "code",
   "execution_count": 6,
   "id": "b0735d6e",
   "metadata": {},
   "outputs": [],
   "source": [
    "#Specify a search criteria the file name should meet for us to apply our method to it:\n",
    "#We will simply want \"invoice\" to be in the name.. do not get the 'junk data' files\n",
    "for f in list_dir(r\"C:\\Invoices\"):\n",
    "    if \"invoice\" in f.lower()[-15:]: \n",
    "        fls.append(f)"
   ]
  },
  {
   "cell_type": "code",
   "execution_count": 7,
   "id": "f3ef7e21",
   "metadata": {
    "scrolled": true
   },
   "outputs": [
    {
     "data": {
      "text/plain": [
       "[\"C:\\\\Invoices\\\\Invoices '21\\\\Paid\\\\invoice 1.xlsx\",\n",
       " \"C:\\\\Invoices\\\\Invoices '21\\\\Paid\\\\invoice 2.xlsx\",\n",
       " \"C:\\\\Invoices\\\\Invoices '21\\\\Unpaid\\\\invoice 3.xlsx\",\n",
       " \"C:\\\\Invoices\\\\Invoices '23\\\\invoice 1.xlsx\",\n",
       " \"C:\\\\Invoices\\\\Invoices '23\\\\invoice 2.xlsx\",\n",
       " \"C:\\\\Invoices\\\\Invoices '23\\\\invoice 3.xlsx\",\n",
       " 'C:\\\\Invoices\\\\Invoices 2022\\\\Paid\\\\invoice 1.xlsx',\n",
       " 'C:\\\\Invoices\\\\Invoices 2022\\\\Paid\\\\invoice 2.xlsx',\n",
       " 'C:\\\\Invoices\\\\Invoices 2022\\\\Unpaid\\\\invoice 3.xlsx']"
      ]
     },
     "execution_count": 7,
     "metadata": {},
     "output_type": "execute_result"
    }
   ],
   "source": [
    "fls #Check it worked"
   ]
  },
  {
   "cell_type": "code",
   "execution_count": 8,
   "id": "b4599237",
   "metadata": {
    "scrolled": false
   },
   "outputs": [
    {
     "name": "stderr",
     "output_type": "stream",
     "text": [
      "C:\\ProgramData\\Anaconda\\lib\\site-packages\\openpyxl\\worksheet\\header_footer.py:48: UserWarning: Cannot parse header or footer so it will be ignored\n",
      "  warn(\"\"\"Cannot parse header or footer so it will be ignored\"\"\")\n"
     ]
    },
    {
     "name": "stdout",
     "output_type": "stream",
     "text": [
      "1\\9 C:\\Invoices\\Invoices '21\\Paid\\invoice 1.xlsx\n",
      "2\\9 C:\\Invoices\\Invoices '21\\Paid\\invoice 2.xlsx\n",
      "3\\9 C:\\Invoices\\Invoices '21\\Unpaid\\invoice 3.xlsx\n",
      "4\\9 C:\\Invoices\\Invoices '23\\invoice 1.xlsx\n",
      "5\\9 C:\\Invoices\\Invoices '23\\invoice 2.xlsx\n",
      "6\\9 C:\\Invoices\\Invoices '23\\invoice 3.xlsx\n",
      "7\\9 C:\\Invoices\\Invoices 2022\\Paid\\invoice 1.xlsx\n",
      "8\\9 C:\\Invoices\\Invoices 2022\\Paid\\invoice 2.xlsx\n",
      "9\\9 C:\\Invoices\\Invoices 2022\\Unpaid\\invoice 3.xlsx\n"
     ]
    }
   ],
   "source": [
    "#Search the files gotten from option 1 or 2\n",
    "#Knowing our file structure we will go through column C from the first item in each invoice until no more items\n",
    "#are observed, and record relevant info from the record.\n",
    "#Then make a second data store with the bottom line info for the invoice \n",
    "for fl in fls:\n",
    "    wb = load_workbook(filename = fl,data_only=True)\n",
    "    #First record data for the sub-items list\n",
    "    print(str(1+fls.index(fl))+chr(92)+str(len(fls)),fl)\n",
    "    for i in range(8,30): #Note arbitrary assumption on row limit. Starting point from existing sheet structure\n",
    "        #Grab invoice admin data\n",
    "        if wb['Commercial Invoice'].cell(row=i,column=3).value!=None:\n",
    "            data=[fl] #include filepath in data dump\n",
    "            data.append(wb['Commercial Invoice'].cell(row=3,column=8).value) # Invoice number to data dump\n",
    "            data.extend([wb['Commercial Invoice'].cell(row=i,column=c).value if type(wb['Commercial Invoice'].cell(row=i,column=c).value)!=datetime else str(wb['Commercial Invoice'].cell(row=i,column=c).value) for c in range(2,9)]) #Convert any data to string.. when re printed to excel it will cast to appropriate type\n",
    "            subitems.append(data)\n",
    "        else:\n",
    "            pass\n",
    "    #Now record to totals\n",
    "    data2=[fl] #initialize with filepath\n",
    "    data2.append(str(wb['Commercial Invoice'].cell(row=4,column=8).value)) #invoice data\n",
    "    data2.append(wb['Commercial Invoice'].cell(row=3,column=8).value) #invoice num\n",
    "    data2.append(wb['Commercial Invoice'].cell(row=13,column=8).value) #subtotal\n",
    "    data2.append(wb['Commercial Invoice'].cell(row=14,column=8).value) #VAT\n",
    "    data2.append(wb['Commercial Invoice'].cell(row=15,column=8).value) #Other Tax\n",
    "    data2.append(wb['Commercial Invoice'].cell(row=16,column=8).value) #Delivery\n",
    "    data2.append(wb['Commercial Invoice'].cell(row=17,column=8).value) #Deposit Recieved\n",
    "    data2.append(wb['Commercial Invoice'].cell(row=18,column=8).value) #Total\n",
    "    invoiceTotal.append(data2)"
   ]
  },
  {
   "cell_type": "code",
   "execution_count": 9,
   "id": "1338dfc8",
   "metadata": {},
   "outputs": [
    {
     "data": {
      "text/plain": [
       "(9,\n",
       " [\"C:\\\\Invoices\\\\Invoices '21\\\\Paid\\\\invoice 1.xlsx\",\n",
       "  34567,\n",
       "  '2023-03-12 00:00:00',\n",
       "  789807,\n",
       "  'Wooden Blocks',\n",
       "  6,\n",
       "  7,\n",
       "  1.5,\n",
       "  40.5],\n",
       " 9,\n",
       " [\"C:\\\\Invoices\\\\Invoices '21\\\\Paid\\\\invoice 1.xlsx\",\n",
       "  '2023-03-12 00:00:00',\n",
       "  34567,\n",
       "  40.5,\n",
       "  0.089,\n",
       "  3.6045,\n",
       "  5,\n",
       "  0,\n",
       "  49.1045])"
      ]
     },
     "execution_count": 9,
     "metadata": {},
     "output_type": "execute_result"
    }
   ],
   "source": [
    "#Check we got what we wanted\n",
    "len(subitems),subitems[0], len(invoiceTotal),invoiceTotal[0]"
   ]
  },
  {
   "cell_type": "code",
   "execution_count": 10,
   "id": "c8f5cd19",
   "metadata": {},
   "outputs": [],
   "source": [
    "#Finally, print our aggregated data to a single subitems table\n",
    "wb = pyxl.Workbook()\n",
    "ws = wb.active\n",
    "r=0 \n",
    "for row in subitems:\n",
    "    r=r+1\n",
    "    c=0\n",
    "    for index in range(len(row)):\n",
    "        c=c+1\n",
    "        ws.cell(row=r,column=c).value=row[index]\n",
    "wb.create_sheet('Bottom Line Info')\n",
    "ws=wb['Bottom Line Info']\n",
    "r=0 \n",
    "for row in invoiceTotal:\n",
    "    r=r+1\n",
    "    c=0\n",
    "    for index in range(len(row)):\n",
    "        c=c+1\n",
    "        ws.cell(row=r,column=c).value=row[index]\n",
    "wb.save(r\"C:\\Invoices\\Aggregated_Data.xlsx\")\n",
    "wb.close()"
   ]
  },
  {
   "cell_type": "code",
   "execution_count": null,
   "id": "f845eac8",
   "metadata": {},
   "outputs": [],
   "source": []
  }
 ],
 "metadata": {
  "kernelspec": {
   "display_name": "Python 3 (ipykernel)",
   "language": "python",
   "name": "python3"
  },
  "language_info": {
   "codemirror_mode": {
    "name": "ipython",
    "version": 3
   },
   "file_extension": ".py",
   "mimetype": "text/x-python",
   "name": "python",
   "nbconvert_exporter": "python",
   "pygments_lexer": "ipython3",
   "version": "3.9.13"
  }
 },
 "nbformat": 4,
 "nbformat_minor": 5
}
