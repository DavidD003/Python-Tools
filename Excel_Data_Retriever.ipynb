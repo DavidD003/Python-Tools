{
 "cells": [
  {
   "cell_type": "code",
   "execution_count": 15,
   "id": "2896ccc1",
   "metadata": {},
   "outputs": [
    {
     "ename": "FileNotFoundError",
     "evalue": "[WinError 3] The system cannot find the path specified: 'files'",
     "output_type": "error",
     "traceback": [
      "\u001b[1;31m---------------------------------------------------------------------------\u001b[0m",
      "\u001b[1;31mFileNotFoundError\u001b[0m                         Traceback (most recent call last)",
      "\u001b[1;32m~\\AppData\\Local\\Temp\\ipykernel_33136\\2522720711.py\u001b[0m in \u001b[0;36m<module>\u001b[1;34m\u001b[0m\n\u001b[0;32m      9\u001b[0m \u001b[1;31m# iterate over files in\u001b[0m\u001b[1;33m\u001b[0m\u001b[1;33m\u001b[0m\u001b[0m\n\u001b[0;32m     10\u001b[0m \u001b[1;31m# that directory\u001b[0m\u001b[1;33m\u001b[0m\u001b[1;33m\u001b[0m\u001b[0m\n\u001b[1;32m---> 11\u001b[1;33m \u001b[1;32mfor\u001b[0m \u001b[0mfilename\u001b[0m \u001b[1;32min\u001b[0m \u001b[0mos\u001b[0m\u001b[1;33m.\u001b[0m\u001b[0mlistdir\u001b[0m\u001b[1;33m(\u001b[0m\u001b[0mdirectory\u001b[0m\u001b[1;33m)\u001b[0m\u001b[1;33m:\u001b[0m\u001b[1;33m\u001b[0m\u001b[1;33m\u001b[0m\u001b[0m\n\u001b[0m\u001b[0;32m     12\u001b[0m     \u001b[0mf\u001b[0m \u001b[1;33m=\u001b[0m \u001b[0mos\u001b[0m\u001b[1;33m.\u001b[0m\u001b[0mpath\u001b[0m\u001b[1;33m.\u001b[0m\u001b[0mjoin\u001b[0m\u001b[1;33m(\u001b[0m\u001b[0mdirectory\u001b[0m\u001b[1;33m,\u001b[0m \u001b[0mfilename\u001b[0m\u001b[1;33m)\u001b[0m\u001b[1;33m\u001b[0m\u001b[1;33m\u001b[0m\u001b[0m\n\u001b[0;32m     13\u001b[0m     \u001b[1;31m# checking if it is a file\u001b[0m\u001b[1;33m\u001b[0m\u001b[1;33m\u001b[0m\u001b[0m\n",
      "\u001b[1;31mFileNotFoundError\u001b[0m: [WinError 3] The system cannot find the path specified: 'files'"
     ]
    }
   ],
   "source": [
    "#Dependencies\n",
    "from openpyxl import load_workbook\n",
    "import openpyxl as pyxl\n",
    "from pathlib import Path\n",
    "import os\n",
    "# assign directory\n",
    "directory = 'files'\n",
    " \n",
    "# iterate over files in\n",
    "# that directory\n",
    "for filename in os.listdir(directory):\n",
    "    f = os.path.join(directory, filename)\n",
    "    # checking if it is a file\n",
    "    if os.path.isfile(f):\n",
    "        print(f)"
   ]
  },
  {
   "cell_type": "code",
   "execution_count": 16,
   "id": "75712ba1",
   "metadata": {
    "scrolled": false
   },
   "outputs": [
    {
     "data": {
      "text/plain": [
       "True"
      ]
     },
     "execution_count": 16,
     "metadata": {},
     "output_type": "execute_result"
    }
   ],
   "source": [
    "#This cell can be used for debugging to confirm whether or not the path you've entered is valid. \n",
    "Path(r\"C:\\Invoices\").exists()"
   ]
  },
  {
   "cell_type": "code",
   "execution_count": 17,
   "id": "bdaec091",
   "metadata": {},
   "outputs": [],
   "source": [
    "master=[] #Will contain the data we're aggregating"
   ]
  },
  {
   "cell_type": "code",
   "execution_count": 18,
   "id": "c1e376df",
   "metadata": {},
   "outputs": [],
   "source": [
    "#Option 1: Going to only specified files"
   ]
  },
  {
   "cell_type": "code",
   "execution_count": 31,
   "id": "feaf8927",
   "metadata": {},
   "outputs": [],
   "source": [
    "#Helper function to build path strings when iterating through multiple files\n",
    "def pthBld(flNm,flExtn=\"\",path_building_variable=('Paid',0)):\n",
    "    \"\"\"Take a file name and expected file type, and based on some other input, add the rest of the file path for reference by workbook opening function\"\"\"\n",
    "    if flExtn!=\"\": flExtn=\".\"+flExtn\n",
    "    tp=path_building_variable[0]\n",
    "    yr=path_building_variable[1]\n",
    "    if yr==22:\n",
    "        return (r\"C:\\Invoices\\Invoices 2022\"+chr(92)+tp+chr(92)+flNm+flExtn)\n",
    "    else:\n",
    "        return (r\"C:\\Invoices\\Invoices '\"+chr(92)+tp+chr(92)+str(yr)+chr(92)+flExtn)"
   ]
  },
  {
   "cell_type": "code",
   "execution_count": 34,
   "id": "f02c1f59",
   "metadata": {
    "scrolled": true
   },
   "outputs": [
    {
     "data": {
      "text/plain": [
       "('C:\\\\Invoices\\\\Invoices 2022\\\\Paid\\\\wow.xlsx', False)"
      ]
     },
     "execution_count": 34,
     "metadata": {},
     "output_type": "execute_result"
    }
   ],
   "source": [
    "#Test function. Output will have double slashes due to vagaries of paths/strings in this language etc but if exists() yields True, the path is good\n",
    "p=pthBld('wow',\"xlsx\",('Paid',22))\n",
    "p, Path(p).exists()"
   ]
  },
  {
   "cell_type": "code",
   "execution_count": null,
   "id": "1e4034c0",
   "metadata": {},
   "outputs": [],
   "source": []
  },
  {
   "cell_type": "code",
   "execution_count": null,
   "id": "d8ec2e28",
   "metadata": {},
   "outputs": [],
   "source": [
    "#Option 2: Searching for every file in a given directory based on name structure"
   ]
  },
  {
   "cell_type": "code",
   "execution_count": 12,
   "id": "b4599237",
   "metadata": {
    "scrolled": false
   },
   "outputs": [],
   "source": [
    "for pr in pairs:\n",
    "    wb = load_workbook(filename = pr[0],data_only=True)\n",
    "    print(pr[0])\n",
    "    for i in range(6,75): #All rows\n",
    "        if 'search_txt' in str(wb['sheet1'].cell(row=i,column=9).value).lower():\n",
    "            master.append(str(wb['sheet1'].cell(row=i,column=3).value)+'_'+str(pr[1]))"
   ]
  },
  {
   "cell_type": "code",
   "execution_count": 13,
   "id": "1338dfc8",
   "metadata": {},
   "outputs": [
    {
     "data": {
      "text/plain": [
       "(0, [])"
      ]
     },
     "execution_count": 13,
     "metadata": {},
     "output_type": "execute_result"
    }
   ],
   "source": [
    "len(master),master"
   ]
  },
  {
   "cell_type": "code",
   "execution_count": 14,
   "id": "c8f5cd19",
   "metadata": {},
   "outputs": [],
   "source": [
    "wb = pyxl.Workbook()\n",
    "ws = wb.active\n",
    "for id in master:\n",
    "    ws.cell(row=2+master.index(id),column=1).value=id\n",
    "wb.save(r\"C:\\Invoices\\Aggregated_Data.xlsx\")\n",
    "wb.close()"
   ]
  },
  {
   "cell_type": "code",
   "execution_count": null,
   "id": "d26e77a4",
   "metadata": {},
   "outputs": [],
   "source": []
  }
 ],
 "metadata": {
  "kernelspec": {
   "display_name": "Python 3 (ipykernel)",
   "language": "python",
   "name": "python3"
  },
  "language_info": {
   "codemirror_mode": {
    "name": "ipython",
    "version": 3
   },
   "file_extension": ".py",
   "mimetype": "text/x-python",
   "name": "python",
   "nbconvert_exporter": "python",
   "pygments_lexer": "ipython3",
   "version": "3.9.13"
  }
 },
 "nbformat": 4,
 "nbformat_minor": 5
}
