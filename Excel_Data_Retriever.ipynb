{
 "cells": [
  {
   "cell_type": "code",
   "execution_count": 50,
   "id": "2896ccc1",
   "metadata": {},
   "outputs": [],
   "source": [
    "#Dependencies\n",
    "from openpyxl import load_workbook\n",
    "import openpyxl as pyxl\n",
    "from pathlib import Path\n",
    "import os"
   ]
  },
  {
   "cell_type": "code",
   "execution_count": 16,
   "id": "75712ba1",
   "metadata": {
    "scrolled": false
   },
   "outputs": [
    {
     "data": {
      "text/plain": [
       "True"
      ]
     },
     "execution_count": 16,
     "metadata": {},
     "output_type": "execute_result"
    }
   ],
   "source": [
    "#This cell can be used for debugging to confirm whether or not the path you've entered is valid. \n",
    "Path(r\"C:\\Invoices\").exists()"
   ]
  },
  {
   "cell_type": "code",
   "execution_count": 70,
   "id": "c6305d33",
   "metadata": {},
   "outputs": [],
   "source": [
    "master=[] #Will contain the data we're aggregating\n",
    "fls=[] #Store file paths for excel files to be searched"
   ]
  },
  {
   "cell_type": "code",
   "execution_count": 65,
   "id": "e1e1bfed",
   "metadata": {},
   "outputs": [],
   "source": [
    "#Option 1: Going to only specified files"
   ]
  },
  {
   "cell_type": "code",
   "execution_count": 66,
   "id": "feaf8927",
   "metadata": {},
   "outputs": [],
   "source": [
    "#Helper function to build path strings when iterating through multiple files\n",
    "def pthBld(flNm,flExtn=\"\",path_building_variable=('Paid',0)):\n",
    "    \"\"\"Take a file name and expected file type, and based on some other input, add the rest of the file path for reference by workbook opening function\"\"\"\n",
    "    if flExtn!=\"\": flExtn=\".\"+flExtn\n",
    "    tp=path_building_variable[0]\n",
    "    yr=path_building_variable[1]\n",
    "    if yr==22:\n",
    "        return (r\"C:\\Invoices\\Invoices 2022\"+chr(92)+tp+chr(92)+flNm+flExtn)\n",
    "    else:\n",
    "        return (r\"C:\\Invoices\\Invoices '\"+str(yr)+chr(92)+tp+chr(92)+flNm+flExtn)"
   ]
  },
  {
   "cell_type": "code",
   "execution_count": 67,
   "id": "8fdfab25",
   "metadata": {
    "scrolled": false
   },
   "outputs": [
    {
     "data": {
      "text/plain": [
       "('C:\\\\Invoices\\\\Invoices 2022\\\\unPaid\\\\Invoice 3.xlsx', 'Exists?: True')"
      ]
     },
     "execution_count": 67,
     "metadata": {},
     "output_type": "execute_result"
    }
   ],
   "source": [
    "#Test function. Output will have double slashes due to vagaries of paths/strings in this language etc but if exists() yields True, the path is good\n",
    "p=pthBld('Invoice 3',\"xlsx\",('unPaid',22))\n",
    "p, \"Exists?: \"+str(Path(p).exists())"
   ]
  },
  {
   "cell_type": "code",
   "execution_count": 68,
   "id": "4633749b",
   "metadata": {},
   "outputs": [],
   "source": [
    "fls.append(pthBld('Invoice 1',\"xlsx\",('Paid',22)))\n",
    "fls.append(pthBld('Invoice 2',\"xlsx\",('Paid',22)))\n",
    "fls.append(pthBld('Invoice 3',\"xlsx\",('unPaid',22)))\n",
    "fls.append(pthBld('Invoice 1',\"xlsx\",('Paid',21)))\n",
    "fls.append(pthBld('Invoice 2',\"xlsx\",('Paid',21)))\n",
    "fls.append(pthBld('Invoice 3',\"xlsx\",('unPaid',21)))"
   ]
  },
  {
   "cell_type": "code",
   "execution_count": null,
   "id": "26b8d80a",
   "metadata": {},
   "outputs": [],
   "source": [
    "#Option 2: Searching for every file in a given directory based on name structure"
   ]
  },
  {
   "cell_type": "code",
   "execution_count": 71,
   "id": "f0a77d19",
   "metadata": {},
   "outputs": [],
   "source": [
    "def list_dir(directory):\n",
    "    \"\"\"This function will print out the path for every file in the specified directory (and any further nested directories)\"\"\"\n",
    "    output=[] #initialize\n",
    "    for filename in os.listdir(directory):\n",
    "        f = os.path.join(directory, filename)\n",
    "        # checking if it is a file\n",
    "        if os.path.isfile(f):\n",
    "            output.append(f)\n",
    "        elif os.path.isdir(f):\n",
    "            output.extend(list_dir(f))\n",
    "    return output"
   ]
  },
  {
   "cell_type": "code",
   "execution_count": 59,
   "id": "30146d37",
   "metadata": {
    "collapsed": true
   },
   "outputs": [
    {
     "data": {
      "text/plain": [
       "[\"C:\\\\Invoices\\\\Invoices '21\\\\junk_Data.xlsx\",\n",
       " \"C:\\\\Invoices\\\\Invoices '21\\\\Paid\\\\invoice 1.xlsx\",\n",
       " \"C:\\\\Invoices\\\\Invoices '21\\\\Paid\\\\invoice 2.xlsx\",\n",
       " \"C:\\\\Invoices\\\\Invoices '21\\\\Unpaid\\\\invoice 3.xlsx\",\n",
       " \"C:\\\\Invoices\\\\Invoices '23\\\\invoice 1.xlsx\",\n",
       " \"C:\\\\Invoices\\\\Invoices '23\\\\invoice 2.xlsx\",\n",
       " \"C:\\\\Invoices\\\\Invoices '23\\\\invoice 3.xlsx\",\n",
       " \"C:\\\\Invoices\\\\Invoices '23\\\\junk_Data.xlsx\",\n",
       " 'C:\\\\Invoices\\\\Invoices 2022\\\\junk_Data.xlsx',\n",
       " 'C:\\\\Invoices\\\\Invoices 2022\\\\Paid\\\\invoice 1.xlsx',\n",
       " 'C:\\\\Invoices\\\\Invoices 2022\\\\Paid\\\\invoice 2.xlsx',\n",
       " 'C:\\\\Invoices\\\\Invoices 2022\\\\Paid\\\\junk_Data.xlsx',\n",
       " 'C:\\\\Invoices\\\\Invoices 2022\\\\Unpaid\\\\invoice 3.xlsx']"
      ]
     },
     "execution_count": 59,
     "metadata": {},
     "output_type": "execute_result"
    }
   ],
   "source": [
    "list_dir(r\"C:\\Invoices\") #Test it works"
   ]
  },
  {
   "cell_type": "code",
   "execution_count": 72,
   "id": "b0735d6e",
   "metadata": {},
   "outputs": [],
   "source": [
    "#Specify a search criteria the file name should meet for us to apply our method to it:\n",
    "#We will simply want \"invoice\" to be in the name\n",
    "for f in list_dir(r\"C:\\Invoices\"):\n",
    "    if \"invoice\" in f: \n",
    "        fls.append(f)"
   ]
  },
  {
   "cell_type": "code",
   "execution_count": 73,
   "id": "f3ef7e21",
   "metadata": {
    "scrolled": true
   },
   "outputs": [
    {
     "data": {
      "text/plain": [
       "[\"C:\\\\Invoices\\\\Invoices '21\\\\Paid\\\\invoice 1.xlsx\",\n",
       " \"C:\\\\Invoices\\\\Invoices '21\\\\Paid\\\\invoice 2.xlsx\",\n",
       " \"C:\\\\Invoices\\\\Invoices '21\\\\Unpaid\\\\invoice 3.xlsx\",\n",
       " \"C:\\\\Invoices\\\\Invoices '23\\\\invoice 1.xlsx\",\n",
       " \"C:\\\\Invoices\\\\Invoices '23\\\\invoice 2.xlsx\",\n",
       " \"C:\\\\Invoices\\\\Invoices '23\\\\invoice 3.xlsx\",\n",
       " 'C:\\\\Invoices\\\\Invoices 2022\\\\Paid\\\\invoice 1.xlsx',\n",
       " 'C:\\\\Invoices\\\\Invoices 2022\\\\Paid\\\\invoice 2.xlsx',\n",
       " 'C:\\\\Invoices\\\\Invoices 2022\\\\Unpaid\\\\invoice 3.xlsx']"
      ]
     },
     "execution_count": 73,
     "metadata": {},
     "output_type": "execute_result"
    }
   ],
   "source": [
    "fls #Check it worked"
   ]
  },
  {
   "cell_type": "code",
   "execution_count": 12,
   "id": "b4599237",
   "metadata": {
    "scrolled": false
   },
   "outputs": [],
   "source": [
    "#Search the files gotten from option 1 or 2\n",
    "for fl in fls:\n",
    "    wb = load_workbook(filename = pr[0],data_only=True)\n",
    "    print(pr[0])\n",
    "    for i in range(6,75): #All rows\n",
    "        if 'search_txt' in str(wb['sheet1'].cell(row=i,column=9).value).lower():\n",
    "            master.append(str(wb['sheet1'].cell(row=i,column=3).value)+'_'+str(pr[1]))"
   ]
  },
  {
   "cell_type": "code",
   "execution_count": 13,
   "id": "1338dfc8",
   "metadata": {},
   "outputs": [
    {
     "data": {
      "text/plain": [
       "(0, [])"
      ]
     },
     "execution_count": 13,
     "metadata": {},
     "output_type": "execute_result"
    }
   ],
   "source": [
    "len(master),master"
   ]
  },
  {
   "cell_type": "code",
   "execution_count": 14,
   "id": "c8f5cd19",
   "metadata": {},
   "outputs": [],
   "source": [
    "wb = pyxl.Workbook()\n",
    "ws = wb.active\n",
    "for id in master:\n",
    "    ws.cell(row=2+master.index(id),column=1).value=id\n",
    "wb.save(r\"C:\\Invoices\\Aggregated_Data.xlsx\")\n",
    "wb.close()"
   ]
  },
  {
   "cell_type": "code",
   "execution_count": null,
   "id": "d26e77a4",
   "metadata": {},
   "outputs": [],
   "source": []
  }
 ],
 "metadata": {
  "kernelspec": {
   "display_name": "Python 3 (ipykernel)",
   "language": "python",
   "name": "python3"
  },
  "language_info": {
   "codemirror_mode": {
    "name": "ipython",
    "version": 3
   },
   "file_extension": ".py",
   "mimetype": "text/x-python",
   "name": "python",
   "nbconvert_exporter": "python",
   "pygments_lexer": "ipython3",
   "version": "3.9.13"
  }
 },
 "nbformat": 4,
 "nbformat_minor": 5
}
