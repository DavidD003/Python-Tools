{
 "cells": [
  {
   "cell_type": "code",
   "execution_count": 7,
   "id": "2896ccc1",
   "metadata": {},
   "outputs": [],
   "source": [
    "#Dependencies\n",
    "from openpyxl import load_workbook\n",
    "import openpyxl as pyxl\n",
    "from pathlib import Path\n",
    "import os\n",
    "# assign directory\n",
    "directory = 'files'\n",
    " \n",
    "# iterate over files in\n",
    "# that directory\n",
    "for filename in os.listdir(directory):\n",
    "    f = os.path.join(directory, filename)\n",
    "    # checking if it is a file\n",
    "    if os.path.isfile(f):\n",
    "        print(f)"
   ]
  },
  {
   "cell_type": "code",
   "execution_count": 8,
   "id": "75712ba1",
   "metadata": {
    "scrolled": true
   },
   "outputs": [
    {
     "data": {
      "text/plain": [
       "True"
      ]
     },
     "execution_count": 8,
     "metadata": {},
     "output_type": "execute_result"
    }
   ],
   "source": [
    "#This cell can be used for debugging to confirm whether or not the path you've entered is valid. \n",
    "Path(r\"C:\\Invoices\").exists()"
   ]
  },
  {
   "cell_type": "code",
   "execution_count": 9,
   "id": "feaf8927",
   "metadata": {},
   "outputs": [],
   "source": [
    "#Helper function to build path strings when iterating through multiple files\n",
    "def pthBld(flNm,yr):\n",
    "    if yr==2023:\n",
    "        return (r\"C:\\Invoices\"+chr(92)+flNm,yr)\n",
    "    if yr==2022:\n",
    "        return (r\"C:\\Invoices\"+chr(92)+flNm,yr)\n",
    "    if yr==2021:\n",
    "        return (r\"C:\\Invoices\"+chr(92)+flNm,yr)"
   ]
  },
  {
   "cell_type": "code",
   "execution_count": 10,
   "id": "91cd5cd8",
   "metadata": {},
   "outputs": [],
   "source": [
    "#Define the list of workbooks to iterate over\n",
    "pairs=[]# to store tuples of wkbk path, year"
   ]
  },
  {
   "cell_type": "code",
   "execution_count": 11,
   "id": "61b34f09",
   "metadata": {},
   "outputs": [],
   "source": [
    "master=[] #Will contain the brew #, year"
   ]
  },
  {
   "cell_type": "code",
   "execution_count": 12,
   "id": "b4599237",
   "metadata": {
    "scrolled": false
   },
   "outputs": [],
   "source": [
    "for pr in pairs:\n",
    "    wb = load_workbook(filename = pr[0],data_only=True)\n",
    "    print(pr[0])\n",
    "    for i in range(6,75): #All rows\n",
    "        if 'search_txt' in str(wb['sheet1'].cell(row=i,column=9).value).lower():\n",
    "            master.append(str(wb['sheet1'].cell(row=i,column=3).value)+'_'+str(pr[1]))"
   ]
  },
  {
   "cell_type": "code",
   "execution_count": 13,
   "id": "1338dfc8",
   "metadata": {},
   "outputs": [
    {
     "data": {
      "text/plain": [
       "(0, [])"
      ]
     },
     "execution_count": 13,
     "metadata": {},
     "output_type": "execute_result"
    }
   ],
   "source": [
    "len(master),master"
   ]
  },
  {
   "cell_type": "code",
   "execution_count": 14,
   "id": "c8f5cd19",
   "metadata": {},
   "outputs": [],
   "source": [
    "wb = pyxl.Workbook()\n",
    "ws = wb.active\n",
    "for id in master:\n",
    "    ws.cell(row=2+master.index(id),column=1).value=id\n",
    "wb.save(r\"C:\\Invoices\\Aggregated_Data.xlsx\")\n",
    "wb.close()"
   ]
  },
  {
   "cell_type": "code",
   "execution_count": null,
   "id": "d26e77a4",
   "metadata": {},
   "outputs": [],
   "source": []
  }
 ],
 "metadata": {
  "kernelspec": {
   "display_name": "Python 3 (ipykernel)",
   "language": "python",
   "name": "python3"
  },
  "language_info": {
   "codemirror_mode": {
    "name": "ipython",
    "version": 3
   },
   "file_extension": ".py",
   "mimetype": "text/x-python",
   "name": "python",
   "nbconvert_exporter": "python",
   "pygments_lexer": "ipython3",
   "version": "3.9.13"
  }
 },
 "nbformat": 4,
 "nbformat_minor": 5
}
