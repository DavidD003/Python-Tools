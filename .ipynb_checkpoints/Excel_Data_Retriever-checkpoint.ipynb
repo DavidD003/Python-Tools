{
 "cells": [
  {
   "cell_type": "code",
   "execution_count": 126,
   "id": "2896ccc1",
   "metadata": {},
   "outputs": [],
   "source": [
    "#Dependencies\n",
    "from openpyxl import load_workbook\n",
    "import openpyxl as pyxl\n",
    "from pathlib import Path\n",
    "import os"
   ]
  },
  {
   "cell_type": "code",
   "execution_count": 127,
   "id": "75712ba1",
   "metadata": {
    "scrolled": false
   },
   "outputs": [
    {
     "data": {
      "text/plain": [
       "True"
      ]
     },
     "execution_count": 127,
     "metadata": {},
     "output_type": "execute_result"
    }
   ],
   "source": [
    "#This cell can be used for debugging to confirm whether or not the path you've entered is valid. \n",
    "Path(r\"C:\\Invoices\").exists()"
   ]
  },
  {
   "cell_type": "code",
   "execution_count": 128,
   "id": "c6305d33",
   "metadata": {},
   "outputs": [],
   "source": [
    "master=[] #Will contain the data we're aggregating\n",
    "fls=[] #Store file paths for excel files to be searched"
   ]
  },
  {
   "cell_type": "code",
   "execution_count": 103,
   "id": "e1e1bfed",
   "metadata": {},
   "outputs": [],
   "source": [
    "#Option 1: Going to only specified files"
   ]
  },
  {
   "cell_type": "code",
   "execution_count": 104,
   "id": "feaf8927",
   "metadata": {},
   "outputs": [],
   "source": [
    "#Helper function to build path strings when iterating through multiple files\n",
    "def pthBld(flNm,flExtn=\"\",path_building_variable=('Paid',0)):\n",
    "    \"\"\"Take a file name and expected file type, and based on some other input, add the rest of the file path for reference by workbook opening function\"\"\"\n",
    "    if flExtn!=\"\": flExtn=\".\"+flExtn\n",
    "    tp=path_building_variable[0]\n",
    "    yr=path_building_variable[1]\n",
    "    if yr==22:\n",
    "        return (r\"C:\\Invoices\\Invoices 2022\"+chr(92)+tp+chr(92)+flNm+flExtn)\n",
    "    else:\n",
    "        return (r\"C:\\Invoices\\Invoices '\"+str(yr)+chr(92)+tp+chr(92)+flNm+flExtn)"
   ]
  },
  {
   "cell_type": "code",
   "execution_count": 105,
   "id": "8fdfab25",
   "metadata": {
    "scrolled": false
   },
   "outputs": [
    {
     "data": {
      "text/plain": [
       "('C:\\\\Invoices\\\\Invoices 2022\\\\unPaid\\\\Invoice 3.xlsx', 'Exists?: True')"
      ]
     },
     "execution_count": 105,
     "metadata": {},
     "output_type": "execute_result"
    }
   ],
   "source": [
    "#Test function. Output will have double slashes due to vagaries of paths/strings in this language etc but if exists() yields True, the path is good\n",
    "p=pthBld('Invoice 3',\"xlsx\",('unPaid',22))\n",
    "p, \"Exists?: \"+str(Path(p).exists())"
   ]
  },
  {
   "cell_type": "code",
   "execution_count": 99,
   "id": "4633749b",
   "metadata": {},
   "outputs": [],
   "source": [
    "fls.append(pthBld('Invoice 1',\"xlsx\",('Paid',22)))\n",
    "fls.append(pthBld('Invoice 2',\"xlsx\",('Paid',22)))\n",
    "fls.append(pthBld('Invoice 3',\"xlsx\",('unPaid',22)))\n",
    "fls.append(pthBld('Invoice 1',\"xlsx\",('Paid',21)))\n",
    "fls.append(pthBld('Invoice 2',\"xlsx\",('Paid',21)))\n",
    "fls.append(pthBld('Invoice 3',\"xlsx\",('unPaid',21)))"
   ]
  },
  {
   "cell_type": "code",
   "execution_count": 8,
   "id": "26b8d80a",
   "metadata": {},
   "outputs": [],
   "source": [
    "#Option 2: Searching for every file in a given directory based on name structure"
   ]
  },
  {
   "cell_type": "code",
   "execution_count": 129,
   "id": "f0a77d19",
   "metadata": {},
   "outputs": [],
   "source": [
    "def list_dir(directory):\n",
    "    \"\"\"This function will print out the path for every file in the specified directory (and any further nested directories)\"\"\"\n",
    "    output=[] #initialize\n",
    "    for filename in os.listdir(directory):\n",
    "        f = os.path.join(directory, filename)\n",
    "        # checking if it is a file\n",
    "        if os.path.isfile(f):\n",
    "            output.append(f)\n",
    "        elif os.path.isdir(f):\n",
    "            output.extend(list_dir(f))\n",
    "    return output"
   ]
  },
  {
   "cell_type": "code",
   "execution_count": 131,
   "id": "30146d37",
   "metadata": {},
   "outputs": [
    {
     "data": {
      "text/plain": [
       "['C:\\\\Invoices\\\\Aggregated_Data.xlsx',\n",
       " \"C:\\\\Invoices\\\\Invoices '21\\\\junk_Data.xlsx\",\n",
       " \"C:\\\\Invoices\\\\Invoices '21\\\\Paid\\\\invoice 1.xlsx\",\n",
       " \"C:\\\\Invoices\\\\Invoices '21\\\\Paid\\\\invoice 2.xlsx\",\n",
       " \"C:\\\\Invoices\\\\Invoices '21\\\\Unpaid\\\\invoice 3.xlsx\",\n",
       " \"C:\\\\Invoices\\\\Invoices '23\\\\invoice 1.xlsx\",\n",
       " \"C:\\\\Invoices\\\\Invoices '23\\\\invoice 2.xlsx\",\n",
       " \"C:\\\\Invoices\\\\Invoices '23\\\\invoice 3.xlsx\",\n",
       " \"C:\\\\Invoices\\\\Invoices '23\\\\junk_Data.xlsx\",\n",
       " 'C:\\\\Invoices\\\\Invoices 2022\\\\junk_Data.xlsx',\n",
       " 'C:\\\\Invoices\\\\Invoices 2022\\\\Paid\\\\invoice 1.xlsx',\n",
       " 'C:\\\\Invoices\\\\Invoices 2022\\\\Paid\\\\invoice 2.xlsx',\n",
       " 'C:\\\\Invoices\\\\Invoices 2022\\\\Paid\\\\junk_Data.xlsx',\n",
       " 'C:\\\\Invoices\\\\Invoices 2022\\\\Unpaid\\\\invoice 3.xlsx']"
      ]
     },
     "execution_count": 131,
     "metadata": {},
     "output_type": "execute_result"
    }
   ],
   "source": [
    "list_dir(r\"C:\\Invoices\") #Test it works"
   ]
  },
  {
   "cell_type": "code",
   "execution_count": 132,
   "id": "b0735d6e",
   "metadata": {},
   "outputs": [],
   "source": [
    "#Specify a search criteria the file name should meet for us to apply our method to it:\n",
    "#We will simply want \"invoice\" to be in the name.. do not get the 'junk data' files\n",
    "for f in list_dir(r\"C:\\Invoices\"):\n",
    "    if \"invoice\" in f.lower()[-15:]: \n",
    "        fls.append(f)"
   ]
  },
  {
   "cell_type": "code",
   "execution_count": 133,
   "id": "f3ef7e21",
   "metadata": {
    "scrolled": true
   },
   "outputs": [
    {
     "data": {
      "text/plain": [
       "[\"C:\\\\Invoices\\\\Invoices '21\\\\Paid\\\\invoice 1.xlsx\",\n",
       " \"C:\\\\Invoices\\\\Invoices '21\\\\Paid\\\\invoice 2.xlsx\",\n",
       " \"C:\\\\Invoices\\\\Invoices '21\\\\Unpaid\\\\invoice 3.xlsx\",\n",
       " \"C:\\\\Invoices\\\\Invoices '23\\\\invoice 1.xlsx\",\n",
       " \"C:\\\\Invoices\\\\Invoices '23\\\\invoice 2.xlsx\",\n",
       " \"C:\\\\Invoices\\\\Invoices '23\\\\invoice 3.xlsx\",\n",
       " 'C:\\\\Invoices\\\\Invoices 2022\\\\Paid\\\\invoice 1.xlsx',\n",
       " 'C:\\\\Invoices\\\\Invoices 2022\\\\Paid\\\\invoice 2.xlsx',\n",
       " 'C:\\\\Invoices\\\\Invoices 2022\\\\Unpaid\\\\invoice 3.xlsx']"
      ]
     },
     "execution_count": 133,
     "metadata": {},
     "output_type": "execute_result"
    }
   ],
   "source": [
    "fls #Check it worked"
   ]
  },
  {
   "cell_type": "code",
   "execution_count": 138,
   "id": "5458c9a5",
   "metadata": {},
   "outputs": [
    {
     "ename": "NameError",
     "evalue": "name 'datetime' is not defined",
     "output_type": "error",
     "traceback": [
      "\u001b[1;31m---------------------------------------------------------------------------\u001b[0m",
      "\u001b[1;31mNameError\u001b[0m                                 Traceback (most recent call last)",
      "\u001b[1;32m~\\AppData\\Local\\Temp\\ipykernel_32028\\1737077697.py\u001b[0m in \u001b[0;36m<module>\u001b[1;34m\u001b[0m\n\u001b[0;32m      1\u001b[0m \u001b[0mwb\u001b[0m \u001b[1;33m=\u001b[0m \u001b[0mload_workbook\u001b[0m\u001b[1;33m(\u001b[0m\u001b[0mfilename\u001b[0m \u001b[1;33m=\u001b[0m \u001b[0mfls\u001b[0m\u001b[1;33m[\u001b[0m\u001b[1;36m0\u001b[0m\u001b[1;33m]\u001b[0m\u001b[1;33m,\u001b[0m\u001b[0mdata_only\u001b[0m\u001b[1;33m=\u001b[0m\u001b[1;32mTrue\u001b[0m\u001b[1;33m)\u001b[0m\u001b[1;33m\u001b[0m\u001b[1;33m\u001b[0m\u001b[0m\n\u001b[1;32m----> 2\u001b[1;33m \u001b[0mprint\u001b[0m\u001b[1;33m(\u001b[0m\u001b[0mtype\u001b[0m\u001b[1;33m(\u001b[0m\u001b[0mwb\u001b[0m\u001b[1;33m[\u001b[0m\u001b[1;34m'Commercial Invoice'\u001b[0m\u001b[1;33m]\u001b[0m\u001b[1;33m.\u001b[0m\u001b[0mcell\u001b[0m\u001b[1;33m(\u001b[0m\u001b[0mrow\u001b[0m\u001b[1;33m=\u001b[0m\u001b[1;36m8\u001b[0m\u001b[1;33m,\u001b[0m\u001b[0mcolumn\u001b[0m\u001b[1;33m=\u001b[0m\u001b[1;36m2\u001b[0m\u001b[1;33m)\u001b[0m\u001b[1;33m.\u001b[0m\u001b[0mvalue\u001b[0m\u001b[1;33m)\u001b[0m\u001b[1;33m==\u001b[0m\u001b[0mdatetime\u001b[0m\u001b[1;33m.\u001b[0m\u001b[0mdatetime\u001b[0m\u001b[1;33m)\u001b[0m\u001b[1;33m\u001b[0m\u001b[1;33m\u001b[0m\u001b[0m\n\u001b[0m",
      "\u001b[1;31mNameError\u001b[0m: name 'datetime' is not defined"
     ]
    }
   ],
   "source": [
    "wb = load_workbook(filename = fls[0],data_only=True)\n",
    "print(type(wb['Commercial Invoice'].cell(row=8,column=2).value)==datetime.datetime)"
   ]
  },
  {
   "cell_type": "code",
   "execution_count": 123,
   "id": "b4599237",
   "metadata": {
    "scrolled": false
   },
   "outputs": [
    {
     "name": "stdout",
     "output_type": "stream",
     "text": [
      "1\\9 C:\\Invoices\\Invoices '21\\Paid\\invoice 1.xlsx\n",
      "2\\9 C:\\Invoices\\Invoices '21\\Paid\\invoice 2.xlsx\n",
      "3\\9 C:\\Invoices\\Invoices '21\\Unpaid\\invoice 3.xlsx\n",
      "4\\9 C:\\Invoices\\Invoices '23\\invoice 1.xlsx\n",
      "5\\9 C:\\Invoices\\Invoices '23\\invoice 2.xlsx\n",
      "6\\9 C:\\Invoices\\Invoices '23\\invoice 3.xlsx\n",
      "7\\9 C:\\Invoices\\Invoices 2022\\Paid\\invoice 1.xlsx\n",
      "8\\9 C:\\Invoices\\Invoices 2022\\Paid\\invoice 2.xlsx\n",
      "9\\9 C:\\Invoices\\Invoices 2022\\Unpaid\\invoice 3.xlsx\n"
     ]
    }
   ],
   "source": [
    "#Search the files gotten from option 1 or 2\n",
    "#Knowing our file structure we will go through column C from the first item in each invoice until no more items\n",
    "#are observed, and record relevant info from the record.\n",
    "for fl in fls:\n",
    "    wb = load_workbook(filename = fl,data_only=True)\n",
    "    print(str(1+fls.index(fl))+chr(92)+str(len(fls)),fl)\n",
    "    for i in range(8,30): #Note arbitrary assumption on row limit. Starting point from existing sheet structure\n",
    "        if wb['Commercial Invoice'].cell(row=i,column=3).value!=None:\n",
    "            data=[str(wb['Commercial Invoice'].cell(row=i,column=c).value) for c in range(2,9)] #Convert any data to string.. when re printed to excel it will cast to appropriate type\n",
    "            master.append(data)\n",
    "        else:\n",
    "            pass"
   ]
  },
  {
   "cell_type": "code",
   "execution_count": 124,
   "id": "1338dfc8",
   "metadata": {},
   "outputs": [
    {
     "data": {
      "text/plain": [
       "(9,\n",
       " [['2019-02-07 00:00:00', '789807', 'Wooden Blocks', '4', '10', '2', '38'],\n",
       "  ['2023-03-11 00:00:00', '345821', 'Race Car', '1', '5', '2', '3'],\n",
       "  ['2023-03-11 00:00:00', '378651', 'Robo Pup', '1', '159', '35', '124'],\n",
       "  ['2019-02-07 00:00:00', '789807', 'Wooden Blocks', '4', '10', '2', '38'],\n",
       "  ['2023-03-11 00:00:00', '345821', 'Race Car', '1', '5', '2', '3'],\n",
       "  ['2023-03-11 00:00:00', '378651', 'Robo Pup', '1', '159', '35', '124'],\n",
       "  ['2019-02-07 00:00:00', '789807', 'Wooden Blocks', '4', '10', '2', '38'],\n",
       "  ['2023-03-11 00:00:00', '345821', 'Race Car', '1', '5', '2', '3'],\n",
       "  ['2023-03-11 00:00:00', '378651', 'Robo Pup', '1', '159', '35', '124']])"
      ]
     },
     "execution_count": 124,
     "metadata": {},
     "output_type": "execute_result"
    }
   ],
   "source": [
    "#Check we got what we wanted\n",
    "len(master),master"
   ]
  },
  {
   "cell_type": "code",
   "execution_count": 125,
   "id": "c8f5cd19",
   "metadata": {},
   "outputs": [],
   "source": [
    "#Finally, print our aggregated data to a single master table\n",
    "wb = pyxl.Workbook()\n",
    "ws = wb.active\n",
    "r=0 \n",
    "for row in master:\n",
    "    r=r+1\n",
    "    c=0\n",
    "    for index in range(len(row)):\n",
    "        c=c+1\n",
    "        ws.cell(row=r,column=c).value=row[index]\n",
    "wb.save(r\"C:\\Invoices\\Aggregated_Data.xlsx\")\n",
    "wb.close()"
   ]
  },
  {
   "cell_type": "code",
   "execution_count": null,
   "id": "d26e77a4",
   "metadata": {},
   "outputs": [],
   "source": []
  }
 ],
 "metadata": {
  "kernelspec": {
   "display_name": "Python 3 (ipykernel)",
   "language": "python",
   "name": "python3"
  },
  "language_info": {
   "codemirror_mode": {
    "name": "ipython",
    "version": 3
   },
   "file_extension": ".py",
   "mimetype": "text/x-python",
   "name": "python",
   "nbconvert_exporter": "python",
   "pygments_lexer": "ipython3",
   "version": "3.9.13"
  }
 },
 "nbformat": 4,
 "nbformat_minor": 5
}
